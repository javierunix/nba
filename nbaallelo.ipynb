{
 "cells": [
  {
   "cell_type": "code",
   "execution_count": 24,
   "id": "accepted-bubble",
   "metadata": {},
   "outputs": [],
   "source": [
    "from scipy.stats import pearsonr, chi2_contingency\n",
    "import pandas as pd\n",
    "import matplotlib.pyplot as plt\n",
    "import seaborn as sns\n",
    "import numpy as np\n"
   ]
  },
  {
   "cell_type": "code",
   "execution_count": 2,
   "id": "metallic-stand",
   "metadata": {},
   "outputs": [
    {
     "data": {
      "text/plain": [
       "(126314, 23)"
      ]
     },
     "execution_count": 2,
     "metadata": {},
     "output_type": "execute_result"
    }
   ],
   "source": [
    "nba = pd.read_csv('nbaallelo.csv')\n",
    "nba.shape"
   ]
  },
  {
   "cell_type": "markdown",
   "id": "handy-converter",
   "metadata": {},
   "source": [
    "Store the data from 2010 and 2014 in specific dataframes"
   ]
  },
  {
   "cell_type": "code",
   "execution_count": 3,
   "id": "outdoor-funeral",
   "metadata": {},
   "outputs": [],
   "source": [
    "nba_2010 = nba[nba.year_id == 2010]\n",
    "nba_2014 = nba[nba.year_id == 2014]"
   ]
  },
  {
   "cell_type": "markdown",
   "id": "postal-omaha",
   "metadata": {},
   "source": [
    "# Analyzing relationships between Quant and Categorical\n",
    "\n",
    "Using the `pts` column from the `nba_2010` DataFrame, create two series named `knicks_pts` (`fran_id = \"Knicks\"`) and `nets_pts`(`fran_id = \"Nets\"`) that represent the points each team has scored in their games."
   ]
  },
  {
   "cell_type": "code",
   "execution_count": 4,
   "id": "bound-weapon",
   "metadata": {},
   "outputs": [],
   "source": [
    "knicks_pts = nba_2010.pts[nba_2010.fran_id == 'Knicks']\n",
    "nets_pts = nba_2010.pts[nba_2010.fran_id == 'Nets']\n",
    "knicks_mean = knicks_pts.mean() # mean  for knicks\n",
    "nets_mean = nets_pts.mean() # mean for nets"
   ]
  },
  {
   "cell_type": "markdown",
   "id": "infinite-plaza",
   "metadata": {},
   "source": [
    "Calculate the difference between the two teams average points scored and save the result as `diff_means_2010`. Based on this value, do you think `fran_id` and `pts` are associated? Why or why not?"
   ]
  },
  {
   "cell_type": "code",
   "execution_count": 5,
   "id": "static-acceptance",
   "metadata": {},
   "outputs": [
    {
     "data": {
      "text/plain": [
       "9.731707317073173"
      ]
     },
     "execution_count": 5,
     "metadata": {},
     "output_type": "execute_result"
    }
   ],
   "source": [
    "diff_means_2010 = knicks_mean - nets_mean\n",
    "diff_means_2010"
   ]
  },
  {
   "cell_type": "markdown",
   "id": "informal-pencil",
   "metadata": {},
   "source": [
    "**Response**: `fran_id` and `pts` are associated because a mean difference of 9.73 is significative."
   ]
  },
  {
   "cell_type": "markdown",
   "id": "basic-instrumentation",
   "metadata": {},
   "source": [
    "Rather than comparing means, it’s useful look at the full distribution of values to understand whether a difference in means is meaningful. Create a set of overlapping histograms that can be used to compare the points scored for the Knicks compared to the Nets. Use the series you created in the previous step (1) and the code below to create the plot. Do the distributions appear to be the same?"
   ]
  },
  {
   "cell_type": "code",
   "execution_count": 6,
   "id": "ultimate-learning",
   "metadata": {},
   "outputs": [
    {
     "data": {
      "image/png": "[encoded data removed]",
      "text/plain": [
       "<Figure size 432x288 with 1 Axes>"
      ]
     },
     "metadata": {
      "needs_background": "light"
     },
     "output_type": "display_data"
    }
   ],
   "source": [
    "plt.hist(knicks_pts, color='blue', label='Knicks', alpha=0.5)\n",
    "plt.hist(nets_pts, color='red', label='Nets', alpha=0.5)\n",
    "plt.legend()\n",
    "plt.show()"
   ]
  },
  {
   "cell_type": "markdown",
   "id": "aggregate-notification",
   "metadata": {},
   "source": [
    "**Response:** Distributions seem significantly different."
   ]
  },
  {
   "cell_type": "markdown",
   "id": "persistent-provincial",
   "metadata": {},
   "source": [
    "Now, let’s compare the 2010 games to 2014. Replicate the steps from the previous three exercises using `nba_2014`. First, calculate the mean difference between the two teams points scored. Save and print the value as `diff_means_2014`. Did the difference in points get larger or smaller in 2014? Then, plot the overlapping histograms. Does the mean difference you calculated make sense?"
   ]
  },
  {
   "cell_type": "code",
   "execution_count": 7,
   "id": "photographic-round",
   "metadata": {},
   "outputs": [
    {
     "data": {
      "text/plain": [
       "0.44706798131809933"
      ]
     },
     "execution_count": 7,
     "metadata": {},
     "output_type": "execute_result"
    }
   ],
   "source": [
    "knicks_pts_2 = nba_2014.pts[nba_2014.fran_id == 'Knicks']\n",
    "nets_pts_2 = nba_2014.pts[nba_2014.fran_id == 'Nets']\n",
    "knicks_mean_2 = knicks_pts_2.mean() # mean  for knicks\n",
    "nets_mean_2 = nets_pts_2.mean() # mean for nets\n",
    "diff_means_2014 = knicks_mean_2 - nets_mean_2\n",
    "diff_means_2014"
   ]
  },
  {
   "cell_type": "code",
   "execution_count": 8,
   "id": "faced-compound",
   "metadata": {},
   "outputs": [
    {
     "data": {
      "image/png": "[encoded data removed]",
      "text/plain": [
       "<Figure size 432x288 with 1 Axes>"
      ]
     },
     "metadata": {
      "needs_background": "light"
     },
     "output_type": "display_data"
    }
   ],
   "source": [
    "plt.hist(knicks_pts_2, color='blue', label='Knicks', alpha=0.5)\n",
    "plt.hist(nets_pts_2, color='red', label='Nets', alpha=0.5)\n",
    "plt.legend()\n",
    "plt.show()"
   ]
  },
  {
   "cell_type": "markdown",
   "id": "dominant-offense",
   "metadata": {},
   "source": [
    "**Response:** Even when there is no a significative mean difference, the histograms corresponding to each franchise are signifantly different."
   ]
  },
  {
   "cell_type": "markdown",
   "id": "excellent-greenhouse",
   "metadata": {},
   "source": [
    "For the remainder of this project, we’ll focus on data from 2010. Let’s now include all teams in the dataset and investigate the relationship between franchise and points scored per game.\n",
    "\n",
    "Using `nba_2010`, generate side-by-side boxplots with points scored (`pts`) on the y-axis and team (`fran_id`) on the x-axis. Is there any overlap between the boxes? Does this chart suggest that fran_id and pts are associated? Which pairs of teams, if any, earn different average scores per game?"
   ]
  },
  {
   "cell_type": "code",
   "execution_count": 9,
   "id": "falling-source",
   "metadata": {},
   "outputs": [
    {
     "data": {
      "image/png": "[encoded data removed]",
      "text/plain": [
       "<Figure size 432x288 with 1 Axes>"
      ]
     },
     "metadata": {
      "needs_background": "light"
     },
     "output_type": "display_data"
    }
   ],
   "source": [
    "sns.boxplot(data=nba_2010, x='fran_id', y='pts')\n",
    "plt.show()"
   ]
  },
  {
   "cell_type": "markdown",
   "id": "medieval-estonia",
   "metadata": {},
   "source": [
    "# Analyzing relationships between Categorical variables\n",
    "\n",
    "The variable `game_result` indicates whether a team won a particular game ('W' stands for “win” and 'L' stands for “loss”). The variable `game_location` indicates whether a team was playing at home or away ('H' stands for “home” and 'A' stands for “away”). Do teams tend to win more games at home compared to away?\n",
    "Data scientists will often calculate a contingency table of frequencies to help them determine if categorical variables are associated. Calculate a table of frequencies that shows the counts of `game_result` and `game_location`."
   ]
  },
  {
   "cell_type": "code",
   "execution_count": 10,
   "id": "utility-supervision",
   "metadata": {},
   "outputs": [
    {
     "data": {
      "text/html": [
       "<div>\n",
       "<style scoped>\n",
       "    .dataframe tbody tr th:only-of-type {\n",
       "        vertical-align: middle;\n",
       "    }\n",
       "\n",
       "    .dataframe tbody tr th {\n",
       "        vertical-align: top;\n",
       "    }\n",
       "\n",
       "    .dataframe thead th {\n",
       "        text-align: right;\n",
       "    }\n",
       "</style>\n",
       "<table border=\"1\" class=\"dataframe\">\n",
       "  <thead>\n",
       "    <tr style=\"text-align: right;\">\n",
       "      <th>game_location</th>\n",
       "      <th>A</th>\n",
       "      <th>H</th>\n",
       "    </tr>\n",
       "    <tr>\n",
       "      <th>game_result</th>\n",
       "      <th></th>\n",
       "      <th></th>\n",
       "    </tr>\n",
       "  </thead>\n",
       "  <tbody>\n",
       "    <tr>\n",
       "      <th>L</th>\n",
       "      <td>786</td>\n",
       "      <td>526</td>\n",
       "    </tr>\n",
       "    <tr>\n",
       "      <th>W</th>\n",
       "      <td>526</td>\n",
       "      <td>786</td>\n",
       "    </tr>\n",
       "  </tbody>\n",
       "</table>\n",
       "</div>"
      ],
      "text/plain": [
       "game_location    A    H\n",
       "game_result            \n",
       "L              786  526\n",
       "W              526  786"
      ]
     },
     "execution_count": 10,
     "metadata": {},
     "output_type": "execute_result"
    }
   ],
   "source": [
    "location_result_freq = pd.crosstab(nba_2010.game_result, nba.game_location)\n",
    "location_result_freq"
   ]
  },
  {
   "cell_type": "markdown",
   "id": "remarkable-pathology",
   "metadata": {},
   "source": [
    "When a team plays at home, wins are more numerous, whereas a team plays away, there are more losses."
   ]
  },
  {
   "cell_type": "markdown",
   "id": "median-hundred",
   "metadata": {},
   "source": [
    "Convert this table of frequencies to a table of proportions and save the result as location_result_proportions. Print your result."
   ]
  },
  {
   "cell_type": "code",
   "execution_count": 11,
   "id": "dietary-alexandria",
   "metadata": {},
   "outputs": [
    {
     "data": {
      "text/html": [
       "<div>\n",
       "<style scoped>\n",
       "    .dataframe tbody tr th:only-of-type {\n",
       "        vertical-align: middle;\n",
       "    }\n",
       "\n",
       "    .dataframe tbody tr th {\n",
       "        vertical-align: top;\n",
       "    }\n",
       "\n",
       "    .dataframe thead th {\n",
       "        text-align: right;\n",
       "    }\n",
       "</style>\n",
       "<table border=\"1\" class=\"dataframe\">\n",
       "  <thead>\n",
       "    <tr style=\"text-align: right;\">\n",
       "      <th>game_location</th>\n",
       "      <th>A</th>\n",
       "      <th>H</th>\n",
       "    </tr>\n",
       "    <tr>\n",
       "      <th>game_result</th>\n",
       "      <th></th>\n",
       "      <th></th>\n",
       "    </tr>\n",
       "  </thead>\n",
       "  <tbody>\n",
       "    <tr>\n",
       "      <th>L</th>\n",
       "      <td>0.299543</td>\n",
       "      <td>0.200457</td>\n",
       "    </tr>\n",
       "    <tr>\n",
       "      <th>W</th>\n",
       "      <td>0.200457</td>\n",
       "      <td>0.299543</td>\n",
       "    </tr>\n",
       "  </tbody>\n",
       "</table>\n",
       "</div>"
      ],
      "text/plain": [
       "game_location         A         H\n",
       "game_result                      \n",
       "L              0.299543  0.200457\n",
       "W              0.200457  0.299543"
      ]
     },
     "execution_count": 11,
     "metadata": {},
     "output_type": "execute_result"
    }
   ],
   "source": [
    "location_result_proportions = location_result_freq/len(nba_2010)\n",
    "location_result_proportions"
   ]
  },
  {
   "cell_type": "markdown",
   "id": "buried-values",
   "metadata": {},
   "source": [
    "For each game, 538 has calculated the probability that each team will win the game. In the data, this is saved as `forecast`. The `point_diff` column gives the margin of victory/defeat for each team (positive values mean that the team won; negative values mean that they lost). Did teams with a higher probability of winning (according to 538) also tend to win games by more points?\n",
    "\n",
    "Using `nba_2010`, calculate the covariance between `forecast` (538’s projected win probability) and `point_diff` (the margin of victory/defeat) in the dataset. Save and print your result. Looking at the matrix, what is the covariance between these two variables?"
   ]
  },
  {
   "cell_type": "code",
   "execution_count": 20,
   "id": "artistic-mason",
   "metadata": {},
   "outputs": [
    {
     "name": "stderr",
     "output_type": "stream",
     "text": [
      "/opt/homebrew/Caskroom/miniforge/base/envs/datascience/lib/python3.8/site-packages/pandas/core/generic.py:5491: SettingWithCopyWarning: \n",
      "A value is trying to be set on a copy of a slice from a DataFrame.\n",
      "Try using .loc[row_indexer,col_indexer] = value instead\n",
      "\n",
      "See the caveats in the documentation: https://pandas.pydata.org/pandas-docs/stable/user_guide/indexing.html#returning-a-view-versus-a-copy\n",
      "  self[name] = value\n"
     ]
    }
   ],
   "source": [
    "nba_2010.pts_diff = nba_2010.pts - nba_2010.opp_pts "
   ]
  },
  {
   "cell_type": "code",
   "execution_count": 22,
   "id": "white-xerox",
   "metadata": {},
   "outputs": [
    {
     "data": {
      "text/html": [
       "<div>\n",
       "<style scoped>\n",
       "    .dataframe tbody tr th:only-of-type {\n",
       "        vertical-align: middle;\n",
       "    }\n",
       "\n",
       "    .dataframe tbody tr th {\n",
       "        vertical-align: top;\n",
       "    }\n",
       "\n",
       "    .dataframe thead th {\n",
       "        text-align: right;\n",
       "    }\n",
       "</style>\n",
       "<table border=\"1\" class=\"dataframe\">\n",
       "  <thead>\n",
       "    <tr style=\"text-align: right;\">\n",
       "      <th></th>\n",
       "      <th>gameorder</th>\n",
       "      <th>game_id</th>\n",
       "      <th>lg_id</th>\n",
       "      <th>_iscopy</th>\n",
       "      <th>year_id</th>\n",
       "      <th>date_game</th>\n",
       "      <th>seasongame</th>\n",
       "      <th>is_playoffs</th>\n",
       "      <th>team_id</th>\n",
       "      <th>fran_id</th>\n",
       "      <th>...</th>\n",
       "      <th>opp_id</th>\n",
       "      <th>opp_fran</th>\n",
       "      <th>opp_pts</th>\n",
       "      <th>opp_elo_i</th>\n",
       "      <th>opp_elo_n</th>\n",
       "      <th>game_location</th>\n",
       "      <th>game_result</th>\n",
       "      <th>forecast</th>\n",
       "      <th>notes</th>\n",
       "      <th>pts_diff</th>\n",
       "    </tr>\n",
       "  </thead>\n",
       "  <tbody>\n",
       "    <tr>\n",
       "      <th>111032</th>\n",
       "      <td>55517</td>\n",
       "      <td>200910270CLE</td>\n",
       "      <td>NBA</td>\n",
       "      <td>1</td>\n",
       "      <td>2010</td>\n",
       "      <td>10/27/2009</td>\n",
       "      <td>1</td>\n",
       "      <td>0</td>\n",
       "      <td>BOS</td>\n",
       "      <td>Celtics</td>\n",
       "      <td>...</td>\n",
       "      <td>CLE</td>\n",
       "      <td>Cavaliers</td>\n",
       "      <td>89</td>\n",
       "      <td>1682.4541</td>\n",
       "      <td>1669.5657</td>\n",
       "      <td>A</td>\n",
       "      <td>W</td>\n",
       "      <td>0.277472</td>\n",
       "      <td>NaN</td>\n",
       "      <td>6</td>\n",
       "    </tr>\n",
       "    <tr>\n",
       "      <th>111033</th>\n",
       "      <td>55517</td>\n",
       "      <td>200910270CLE</td>\n",
       "      <td>NBA</td>\n",
       "      <td>0</td>\n",
       "      <td>2010</td>\n",
       "      <td>10/27/2009</td>\n",
       "      <td>1</td>\n",
       "      <td>0</td>\n",
       "      <td>CLE</td>\n",
       "      <td>Cavaliers</td>\n",
       "      <td>...</td>\n",
       "      <td>BOS</td>\n",
       "      <td>Celtics</td>\n",
       "      <td>95</td>\n",
       "      <td>1616.2000</td>\n",
       "      <td>1629.0884</td>\n",
       "      <td>H</td>\n",
       "      <td>L</td>\n",
       "      <td>0.722528</td>\n",
       "      <td>NaN</td>\n",
       "      <td>-6</td>\n",
       "    </tr>\n",
       "    <tr>\n",
       "      <th>111034</th>\n",
       "      <td>55518</td>\n",
       "      <td>200910270DAL</td>\n",
       "      <td>NBA</td>\n",
       "      <td>1</td>\n",
       "      <td>2010</td>\n",
       "      <td>10/27/2009</td>\n",
       "      <td>1</td>\n",
       "      <td>0</td>\n",
       "      <td>WAS</td>\n",
       "      <td>Wizards</td>\n",
       "      <td>...</td>\n",
       "      <td>DAL</td>\n",
       "      <td>Mavericks</td>\n",
       "      <td>91</td>\n",
       "      <td>1586.4293</td>\n",
       "      <td>1560.6396</td>\n",
       "      <td>A</td>\n",
       "      <td>W</td>\n",
       "      <td>0.133436</td>\n",
       "      <td>NaN</td>\n",
       "      <td>11</td>\n",
       "    </tr>\n",
       "    <tr>\n",
       "      <th>111035</th>\n",
       "      <td>55518</td>\n",
       "      <td>200910270DAL</td>\n",
       "      <td>NBA</td>\n",
       "      <td>0</td>\n",
       "      <td>2010</td>\n",
       "      <td>10/27/2009</td>\n",
       "      <td>1</td>\n",
       "      <td>0</td>\n",
       "      <td>DAL</td>\n",
       "      <td>Mavericks</td>\n",
       "      <td>...</td>\n",
       "      <td>WAS</td>\n",
       "      <td>Wizards</td>\n",
       "      <td>102</td>\n",
       "      <td>1361.4187</td>\n",
       "      <td>1387.2084</td>\n",
       "      <td>H</td>\n",
       "      <td>L</td>\n",
       "      <td>0.866564</td>\n",
       "      <td>NaN</td>\n",
       "      <td>-11</td>\n",
       "    </tr>\n",
       "    <tr>\n",
       "      <th>111036</th>\n",
       "      <td>55519</td>\n",
       "      <td>200910270LAL</td>\n",
       "      <td>NBA</td>\n",
       "      <td>1</td>\n",
       "      <td>2010</td>\n",
       "      <td>10/27/2009</td>\n",
       "      <td>1</td>\n",
       "      <td>0</td>\n",
       "      <td>LAC</td>\n",
       "      <td>Clippers</td>\n",
       "      <td>...</td>\n",
       "      <td>LAL</td>\n",
       "      <td>Lakers</td>\n",
       "      <td>99</td>\n",
       "      <td>1718.7451</td>\n",
       "      <td>1719.3817</td>\n",
       "      <td>A</td>\n",
       "      <td>L</td>\n",
       "      <td>0.052993</td>\n",
       "      <td>NaN</td>\n",
       "      <td>-7</td>\n",
       "    </tr>\n",
       "  </tbody>\n",
       "</table>\n",
       "<p>5 rows × 24 columns</p>\n",
       "</div>"
      ],
      "text/plain": [
       "        gameorder       game_id lg_id  _iscopy  year_id   date_game  \\\n",
       "111032      55517  200910270CLE   NBA        1     2010  10/27/2009   \n",
       "111033      55517  200910270CLE   NBA        0     2010  10/27/2009   \n",
       "111034      55518  200910270DAL   NBA        1     2010  10/27/2009   \n",
       "111035      55518  200910270DAL   NBA        0     2010  10/27/2009   \n",
       "111036      55519  200910270LAL   NBA        1     2010  10/27/2009   \n",
       "\n",
       "        seasongame  is_playoffs team_id    fran_id  ...  opp_id   opp_fran  \\\n",
       "111032           1            0     BOS    Celtics  ...     CLE  Cavaliers   \n",
       "111033           1            0     CLE  Cavaliers  ...     BOS    Celtics   \n",
       "111034           1            0     WAS    Wizards  ...     DAL  Mavericks   \n",
       "111035           1            0     DAL  Mavericks  ...     WAS    Wizards   \n",
       "111036           1            0     LAC   Clippers  ...     LAL     Lakers   \n",
       "\n",
       "        opp_pts  opp_elo_i  opp_elo_n game_location  game_result  forecast  \\\n",
       "111032       89  1682.4541  1669.5657             A            W  0.277472   \n",
       "111033       95  1616.2000  1629.0884             H            L  0.722528   \n",
       "111034       91  1586.4293  1560.6396             A            W  0.133436   \n",
       "111035      102  1361.4187  1387.2084             H            L  0.866564   \n",
       "111036       99  1718.7451  1719.3817             A            L  0.052993   \n",
       "\n",
       "        notes pts_diff  \n",
       "111032    NaN        6  \n",
       "111033    NaN       -6  \n",
       "111034    NaN       11  \n",
       "111035    NaN      -11  \n",
       "111036    NaN       -7  \n",
       "\n",
       "[5 rows x 24 columns]"
      ]
     },
     "execution_count": 22,
     "metadata": {},
     "output_type": "execute_result"
    }
   ],
   "source": [
    "nba_2010.head()"
   ]
  },
  {
   "cell_type": "markdown",
   "id": "latin-empire",
   "metadata": {},
   "source": [
    "Using nba_2010, calculate the correlation between forecast and point_diff. Save and print your result. Does this value suggest an association between the two variables?"
   ]
  },
  {
   "cell_type": "code",
   "execution_count": 25,
   "id": "latest-mozambique",
   "metadata": {},
   "outputs": [
    {
     "data": {
      "text/plain": [
       "array([[1.84166984e+02, 1.40469612e+00],\n",
       "       [1.40469612e+00, 5.10756109e-02]])"
      ]
     },
     "execution_count": 25,
     "metadata": {},
     "output_type": "execute_result"
    }
   ],
   "source": [
    "np.cov(nba_2010.pts_diff, nba_2010.forecast)"
   ]
  },
  {
   "cell_type": "markdown",
   "id": "intimate-occasion",
   "metadata": {},
   "source": [
    "Generate a scatter plot of forecast (on the x-axis) and point_diff (on the y-axis). Does the correlation value make sense?"
   ]
  },
  {
   "cell_type": "code",
   "execution_count": 30,
   "id": "honest-jacket",
   "metadata": {},
   "outputs": [
    {
     "data": {
      "image/png": "[encoded data removed]",
      "text/plain": [
       "<Figure size 432x288 with 1 Axes>"
      ]
     },
     "metadata": {
      "needs_background": "light"
     },
     "output_type": "display_data"
    }
   ],
   "source": [
    "plt.scatter(x='pts_diff', y= 'forecast', data=nba_2010)\n",
    "plt.show()\n"
   ]
  }
 ],
 "metadata": {
  "kernelspec": {
   "display_name": "Python 3",
   "language": "python",
   "name": "python3"
  },
  "language_info": {
   "codemirror_mode": {
    "name": "ipython",
    "version": 3
   },
   "file_extension": ".py",
   "mimetype": "text/x-python",
   "name": "python",
   "nbconvert_exporter": "python",
   "pygments_lexer": "ipython3",
   "version": "3.8.8"
  }
 },
 "nbformat": 4,
 "nbformat_minor": 5
}
