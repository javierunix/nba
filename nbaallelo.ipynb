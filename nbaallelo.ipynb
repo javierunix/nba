{
 "cells": [
  {
   "cell_type": "code",
   "execution_count": 16,
   "id": "accepted-bubble",
   "metadata": {},
   "outputs": [],
   "source": [
    "from scipy.stats import pearsonr, chi2_contingency\n",
    "import pandas as pd\n",
    "import matplotlib.pyplot as plt\n",
    "import seaborn as sns\n"
   ]
  },
  {
   "cell_type": "code",
   "execution_count": 13,
   "id": "metallic-stand",
   "metadata": {},
   "outputs": [
    {
     "data": {
      "text/plain": [
       "(126314, 23)"
      ]
     },
     "execution_count": 13,
     "metadata": {},
     "output_type": "execute_result"
    }
   ],
   "source": [
    "nba = pd.read_csv('nbaallelo.csv')\n",
    "nba.shape"
   ]
  },
  {
   "cell_type": "markdown",
   "id": "handy-converter",
   "metadata": {},
   "source": [
    "Store the data from 2010 and 2014 in specific dataframes"
   ]
  },
  {
   "cell_type": "code",
   "execution_count": 15,
   "id": "outdoor-funeral",
   "metadata": {},
   "outputs": [],
   "source": [
    "nba_2010 = df[df.year_id == 2010]\n",
    "nba_2014 = df[df.year_id == 2014]"
   ]
  },
  {
   "cell_type": "markdown",
   "id": "postal-omaha",
   "metadata": {},
   "source": [
    "Using the pts column from the `nba_2010` DataFrame, create two series named `knicks_pts` (`fran_id = \"Knicks\"`) and `nets_pts`(`fran_id = \"Nets\"`) that represent the points each team has scored in their games."
   ]
  }
 ],
 "metadata": {
  "kernelspec": {
   "display_name": "Python 3",
   "language": "python",
   "name": "python3"
  },
  "language_info": {
   "codemirror_mode": {
    "name": "ipython",
    "version": 3
   },
   "file_extension": ".py",
   "mimetype": "text/x-python",
   "name": "python",
   "nbconvert_exporter": "python",
   "pygments_lexer": "ipython3",
   "version": "3.8.8"
  }
 },
 "nbformat": 4,
 "nbformat_minor": 5
}
